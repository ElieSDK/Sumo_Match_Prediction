{
 "cells": [
  {
   "cell_type": "markdown",
   "id": "79771ae6",
   "metadata": {},
   "source": [
    "# 大相撲の試合の予測\n",
    "\n",
    "\n",
    "このノートでは、大相撲のデータセットを分析していきます。ウェブサイト[Data World](https://data.world/cervus/sumo-japan) 」には、相撲の試合結果のデータセット、1983年以降の力士の特性のデータセット、2017年以降の試合の勝算のデータセットがあります。\n",
    "\n",
    "\n",
    "それぞれの変数についての説明は[こちら](https://data.world/cervus/sumo-japan/workspace/data-dictionary)をご覧ください。\n",
    "\n",
    "\n",
    "## 目的\n",
    "\n",
    "大相撲の試合の結果を予測すること。\n",
    "\n",
    "### 目次\n",
    "\n",
    "<b>1.データ分析</b>\n",
    "* 1.1.基本的な分析。\n",
    "* 1.2.行方不明のデータ。\n",
    "* 1.3.最も勝利数の多い3人の選手は誰か。\n",
    "* 1.4.大相撲の力士の身長と体重。\n",
    "* 1.5.最も多く力士を育てたのはどこの部屋か。\n",
    "* 1.6.大相撲の力士はどこの出身ですか。\n",
    "\n",
    "<b>2.正確な勝算</b>\n",
    "* 2.1.勝算と結果の変数のための新しい変数。\n",
    "* 2.2.勝算と結果のデータフレームのための新しい変数。\n",
    "* 2.3.結果。\n",
    "\n",
    "<b>3.試合結果の予測</b>\n",
    "* 3.1.試合結果の予測。\n",
    "* 3.2.トレーニングとテストのためのデータ分割。\n",
    "* 3.3.モデリング。"
   ]
  },
  {
   "cell_type": "code",
   "execution_count": 1,
   "id": "27229364",
   "metadata": {},
   "outputs": [],
   "source": [
    "#Imports\n",
    "import numpy as np # linear algebra\n",
    "import pandas as pd # data processing, CSV file I/O (e.g. pd.read_csv)\n",
    "import matplotlib.pyplot as plt\n",
    "from sklearn.utils import shuffle\n",
    "from sklearn.model_selection import train_test_split\n",
    "from sklearn.linear_model import LogisticRegression\n",
    "from sklearn.metrics import confusion_matrix, classification_report\n",
    "from sklearn.model_selection import learning_curve\n",
    "from sklearn.ensemble import RandomForestClassifier, AdaBoostClassifier\n",
    "from sklearn.svm import SVC\n",
    "from sklearn.neighbors import KNeighborsClassifier\n",
    "from sklearn.pipeline import make_pipeline\n",
    "from sklearn.feature_selection import SelectKBest, f_classif\n",
    "from sklearn.preprocessing import PolynomialFeatures, StandardScaler"
   ]
  },
  {
   "cell_type": "markdown",
   "id": "6a8aabe0",
   "metadata": {},
   "source": [
    "[GitHub](https://github.com/ElieSDK/Sumo_Match_Prediction/tree/main/Data)でもデータセットをダウンロードができます。"
   ]
  },
  {
   "cell_type": "code",
   "execution_count": 2,
   "id": "9ece240f",
   "metadata": {},
   "outputs": [],
   "source": [
    "#データセットのを読みます\n",
    "banzuke = pd.read_csv('banzuke.csv')\n",
    "odds = pd.read_csv('odds.csv')\n",
    "results = pd.read_csv('results.csv')"
   ]
  },
  {
   "cell_type": "markdown",
   "id": "e64c4341",
   "metadata": {},
   "source": [
    "## 1.データ分析\n",
    "### 1.1.基本的な分析"
   ]
  },
  {
   "cell_type": "code",
   "execution_count": 3,
   "id": "9cd1ef0a",
   "metadata": {
    "scrolled": false
   },
   "outputs": [
    {
     "data": {
      "text/html": [
       "<div>\n",
       "<style scoped>\n",
       "    .dataframe tbody tr th:only-of-type {\n",
       "        vertical-align: middle;\n",
       "    }\n",
       "\n",
       "    .dataframe tbody tr th {\n",
       "        vertical-align: top;\n",
       "    }\n",
       "\n",
       "    .dataframe thead th {\n",
       "        text-align: right;\n",
       "    }\n",
       "</style>\n",
       "<table border=\"1\" class=\"dataframe\">\n",
       "  <thead>\n",
       "    <tr style=\"text-align: right;\">\n",
       "      <th></th>\n",
       "      <th>basho</th>\n",
       "      <th>id</th>\n",
       "      <th>rank</th>\n",
       "      <th>rikishi</th>\n",
       "      <th>heya</th>\n",
       "      <th>shusshin</th>\n",
       "      <th>birth_date</th>\n",
       "      <th>height</th>\n",
       "      <th>weight</th>\n",
       "      <th>prev</th>\n",
       "      <th>prev_w</th>\n",
       "      <th>prev_l</th>\n",
       "    </tr>\n",
       "  </thead>\n",
       "  <tbody>\n",
       "    <tr>\n",
       "      <th>0</th>\n",
       "      <td>1983.01</td>\n",
       "      <td>1354</td>\n",
       "      <td>Y1e</td>\n",
       "      <td>Chiyonofuji</td>\n",
       "      <td>Kokonoe</td>\n",
       "      <td>Hokkaido</td>\n",
       "      <td>1955-06-01</td>\n",
       "      <td>182.0</td>\n",
       "      <td>116.0</td>\n",
       "      <td>Y1e</td>\n",
       "      <td>14.0</td>\n",
       "      <td>1.0</td>\n",
       "    </tr>\n",
       "    <tr>\n",
       "      <th>1</th>\n",
       "      <td>1983.01</td>\n",
       "      <td>4080</td>\n",
       "      <td>Y1w</td>\n",
       "      <td>Kitanoumi</td>\n",
       "      <td>Mihogaseki</td>\n",
       "      <td>Hokkaido</td>\n",
       "      <td>1953-05-16</td>\n",
       "      <td>179.0</td>\n",
       "      <td>165.0</td>\n",
       "      <td>Y2eHD</td>\n",
       "      <td>9.0</td>\n",
       "      <td>3.0</td>\n",
       "    </tr>\n",
       "    <tr>\n",
       "      <th>2</th>\n",
       "      <td>1983.01</td>\n",
       "      <td>4095</td>\n",
       "      <td>Y2eHD</td>\n",
       "      <td>Wakanohana</td>\n",
       "      <td>Futagoyama</td>\n",
       "      <td>Aomori</td>\n",
       "      <td>1953-04-03</td>\n",
       "      <td>186.0</td>\n",
       "      <td>133.0</td>\n",
       "      <td>Y1w</td>\n",
       "      <td>0.0</td>\n",
       "      <td>0.0</td>\n",
       "    </tr>\n",
       "    <tr>\n",
       "      <th>3</th>\n",
       "      <td>1983.01</td>\n",
       "      <td>4104</td>\n",
       "      <td>O1e</td>\n",
       "      <td>Takanosato</td>\n",
       "      <td>Futagoyama</td>\n",
       "      <td>Aomori</td>\n",
       "      <td>1952-09-29</td>\n",
       "      <td>181.0</td>\n",
       "      <td>144.0</td>\n",
       "      <td>O1e</td>\n",
       "      <td>10.0</td>\n",
       "      <td>5.0</td>\n",
       "    </tr>\n",
       "    <tr>\n",
       "      <th>4</th>\n",
       "      <td>1983.01</td>\n",
       "      <td>4112</td>\n",
       "      <td>O1w</td>\n",
       "      <td>Kotokaze</td>\n",
       "      <td>Sadogatake</td>\n",
       "      <td>Mie</td>\n",
       "      <td>1957-04-26</td>\n",
       "      <td>183.0</td>\n",
       "      <td>163.0</td>\n",
       "      <td>O1w</td>\n",
       "      <td>10.0</td>\n",
       "      <td>5.0</td>\n",
       "    </tr>\n",
       "  </tbody>\n",
       "</table>\n",
       "</div>"
      ],
      "text/plain": [
       "     basho    id   rank      rikishi        heya  shusshin  birth_date  \\\n",
       "0  1983.01  1354    Y1e  Chiyonofuji     Kokonoe  Hokkaido  1955-06-01   \n",
       "1  1983.01  4080    Y1w    Kitanoumi  Mihogaseki  Hokkaido  1953-05-16   \n",
       "2  1983.01  4095  Y2eHD   Wakanohana  Futagoyama    Aomori  1953-04-03   \n",
       "3  1983.01  4104    O1e   Takanosato  Futagoyama    Aomori  1952-09-29   \n",
       "4  1983.01  4112    O1w     Kotokaze  Sadogatake       Mie  1957-04-26   \n",
       "\n",
       "   height  weight   prev  prev_w  prev_l  \n",
       "0   182.0   116.0    Y1e    14.0     1.0  \n",
       "1   179.0   165.0  Y2eHD     9.0     3.0  \n",
       "2   186.0   133.0    Y1w     0.0     0.0  \n",
       "3   181.0   144.0    O1e    10.0     5.0  \n",
       "4   183.0   163.0    O1w    10.0     5.0  "
      ]
     },
     "execution_count": 3,
     "metadata": {},
     "output_type": "execute_result"
    }
   ],
   "source": [
    "#最初のデータフレームを確認します\n",
    "banzuke.head()"
   ]
  },
  {
   "cell_type": "markdown",
   "id": "94af6456",
   "metadata": {},
   "source": [
    "番付データベースには、1983年から2021年までの各大会について、日付、力士名、番号ID、各力士の部屋、出身地、生年月日、身長、体重、番付、前座が含まれています。"
   ]
  },
  {
   "cell_type": "code",
   "execution_count": 4,
   "id": "d0735d55",
   "metadata": {},
   "outputs": [
    {
     "data": {
      "text/html": [
       "<div>\n",
       "<style scoped>\n",
       "    .dataframe tbody tr th:only-of-type {\n",
       "        vertical-align: middle;\n",
       "    }\n",
       "\n",
       "    .dataframe tbody tr th {\n",
       "        vertical-align: top;\n",
       "    }\n",
       "\n",
       "    .dataframe thead th {\n",
       "        text-align: right;\n",
       "    }\n",
       "</style>\n",
       "<table border=\"1\" class=\"dataframe\">\n",
       "  <thead>\n",
       "    <tr style=\"text-align: right;\">\n",
       "      <th></th>\n",
       "      <th>rikishi1</th>\n",
       "      <th>odds1</th>\n",
       "      <th>rikishi2</th>\n",
       "      <th>odds2</th>\n",
       "      <th>ts</th>\n",
       "    </tr>\n",
       "  </thead>\n",
       "  <tbody>\n",
       "    <tr>\n",
       "      <th>0</th>\n",
       "      <td>Arawashi</td>\n",
       "      <td>1.8</td>\n",
       "      <td>Ura</td>\n",
       "      <td>2.01</td>\n",
       "      <td>2017-05-13 09:00:01</td>\n",
       "    </tr>\n",
       "    <tr>\n",
       "      <th>1</th>\n",
       "      <td>Daishomaru</td>\n",
       "      <td>1.9</td>\n",
       "      <td>Onosho</td>\n",
       "      <td>1.90</td>\n",
       "      <td>2017-05-13 09:00:01</td>\n",
       "    </tr>\n",
       "    <tr>\n",
       "      <th>2</th>\n",
       "      <td>Goeido</td>\n",
       "      <td>1.3</td>\n",
       "      <td>Okinoumi</td>\n",
       "      <td>3.52</td>\n",
       "      <td>2017-05-13 09:00:01</td>\n",
       "    </tr>\n",
       "    <tr>\n",
       "      <th>3</th>\n",
       "      <td>Hakuho</td>\n",
       "      <td>1.1</td>\n",
       "      <td>Chiyonokuni</td>\n",
       "      <td>7.00</td>\n",
       "      <td>2017-05-13 09:00:01</td>\n",
       "    </tr>\n",
       "    <tr>\n",
       "      <th>4</th>\n",
       "      <td>Harumafuji</td>\n",
       "      <td>1.4</td>\n",
       "      <td>Kotoshogiku</td>\n",
       "      <td>2.96</td>\n",
       "      <td>2017-05-13 09:00:01</td>\n",
       "    </tr>\n",
       "  </tbody>\n",
       "</table>\n",
       "</div>"
      ],
      "text/plain": [
       "     rikishi1  odds1     rikishi2  odds2                   ts\n",
       "0    Arawashi    1.8          Ura   2.01  2017-05-13 09:00:01\n",
       "1  Daishomaru    1.9       Onosho   1.90  2017-05-13 09:00:01\n",
       "2      Goeido    1.3     Okinoumi   3.52  2017-05-13 09:00:01\n",
       "3      Hakuho    1.1  Chiyonokuni   7.00  2017-05-13 09:00:01\n",
       "4  Harumafuji    1.4  Kotoshogiku   2.96  2017-05-13 09:00:01"
      ]
     },
     "execution_count": 4,
     "metadata": {},
     "output_type": "execute_result"
    }
   ],
   "source": [
    "odds.head()"
   ]
  },
  {
   "cell_type": "markdown",
   "id": "64af743d",
   "metadata": {},
   "source": [
    "勝算データベースには、2017年から2021年までの各戦いの勝算が含まれます。勝算は時間の経過とともに微妙に変化するため、1つの試合が多くの勝算を持つことがあります。"
   ]
  },
  {
   "cell_type": "code",
   "execution_count": 5,
   "id": "033392e9",
   "metadata": {},
   "outputs": [
    {
     "data": {
      "text/html": [
       "<div>\n",
       "<style scoped>\n",
       "    .dataframe tbody tr th:only-of-type {\n",
       "        vertical-align: middle;\n",
       "    }\n",
       "\n",
       "    .dataframe tbody tr th {\n",
       "        vertical-align: top;\n",
       "    }\n",
       "\n",
       "    .dataframe thead th {\n",
       "        text-align: right;\n",
       "    }\n",
       "</style>\n",
       "<table border=\"1\" class=\"dataframe\">\n",
       "  <thead>\n",
       "    <tr style=\"text-align: right;\">\n",
       "      <th></th>\n",
       "      <th>basho</th>\n",
       "      <th>day</th>\n",
       "      <th>rikishi1_id</th>\n",
       "      <th>rikishi1_rank</th>\n",
       "      <th>rikishi1_shikona</th>\n",
       "      <th>rikishi1_result</th>\n",
       "      <th>rikishi1_win</th>\n",
       "      <th>kimarite</th>\n",
       "      <th>rikishi2_id</th>\n",
       "      <th>rikishi2_rank</th>\n",
       "      <th>rikishi2_shikona</th>\n",
       "      <th>rikishi2_result</th>\n",
       "      <th>rikishi2_win</th>\n",
       "    </tr>\n",
       "  </thead>\n",
       "  <tbody>\n",
       "    <tr>\n",
       "      <th>0</th>\n",
       "      <td>1983.01</td>\n",
       "      <td>1</td>\n",
       "      <td>4140</td>\n",
       "      <td>J13w</td>\n",
       "      <td>Chikubayama</td>\n",
       "      <td>0-1 (7-8)</td>\n",
       "      <td>0</td>\n",
       "      <td>yorikiri</td>\n",
       "      <td>4306</td>\n",
       "      <td>Ms1e</td>\n",
       "      <td>Ofuji</td>\n",
       "      <td>1-0 (6-1)</td>\n",
       "      <td>1</td>\n",
       "    </tr>\n",
       "    <tr>\n",
       "      <th>1</th>\n",
       "      <td>1983.01</td>\n",
       "      <td>1</td>\n",
       "      <td>4306</td>\n",
       "      <td>Ms1e</td>\n",
       "      <td>Ofuji</td>\n",
       "      <td>1-0 (6-1)</td>\n",
       "      <td>1</td>\n",
       "      <td>yorikiri</td>\n",
       "      <td>4140</td>\n",
       "      <td>J13w</td>\n",
       "      <td>Chikubayama</td>\n",
       "      <td>0-1 (7-8)</td>\n",
       "      <td>0</td>\n",
       "    </tr>\n",
       "    <tr>\n",
       "      <th>2</th>\n",
       "      <td>1983.01</td>\n",
       "      <td>1</td>\n",
       "      <td>1337</td>\n",
       "      <td>J12w</td>\n",
       "      <td>Tochitsukasa</td>\n",
       "      <td>1-0 (9-6)</td>\n",
       "      <td>1</td>\n",
       "      <td>oshidashi</td>\n",
       "      <td>4323</td>\n",
       "      <td>J13e</td>\n",
       "      <td>Shiraiwa</td>\n",
       "      <td>0-1 (3-12)</td>\n",
       "      <td>0</td>\n",
       "    </tr>\n",
       "    <tr>\n",
       "      <th>3</th>\n",
       "      <td>1983.01</td>\n",
       "      <td>1</td>\n",
       "      <td>4323</td>\n",
       "      <td>J13e</td>\n",
       "      <td>Shiraiwa</td>\n",
       "      <td>0-1 (3-12)</td>\n",
       "      <td>0</td>\n",
       "      <td>oshidashi</td>\n",
       "      <td>1337</td>\n",
       "      <td>J12w</td>\n",
       "      <td>Tochitsukasa</td>\n",
       "      <td>1-0 (9-6)</td>\n",
       "      <td>1</td>\n",
       "    </tr>\n",
       "    <tr>\n",
       "      <th>4</th>\n",
       "      <td>1983.01</td>\n",
       "      <td>1</td>\n",
       "      <td>4097</td>\n",
       "      <td>J12e</td>\n",
       "      <td>Tamakiyama</td>\n",
       "      <td>0-1 (8-7)</td>\n",
       "      <td>0</td>\n",
       "      <td>yorikiri</td>\n",
       "      <td>4319</td>\n",
       "      <td>J11w</td>\n",
       "      <td>Harunafuji</td>\n",
       "      <td>1-0 (5-10)</td>\n",
       "      <td>1</td>\n",
       "    </tr>\n",
       "  </tbody>\n",
       "</table>\n",
       "</div>"
      ],
      "text/plain": [
       "     basho  day  rikishi1_id rikishi1_rank rikishi1_shikona rikishi1_result  \\\n",
       "0  1983.01    1         4140          J13w      Chikubayama       0-1 (7-8)   \n",
       "1  1983.01    1         4306          Ms1e            Ofuji       1-0 (6-1)   \n",
       "2  1983.01    1         1337          J12w     Tochitsukasa       1-0 (9-6)   \n",
       "3  1983.01    1         4323          J13e         Shiraiwa      0-1 (3-12)   \n",
       "4  1983.01    1         4097          J12e       Tamakiyama       0-1 (8-7)   \n",
       "\n",
       "   rikishi1_win   kimarite  rikishi2_id rikishi2_rank rikishi2_shikona  \\\n",
       "0             0   yorikiri         4306          Ms1e            Ofuji   \n",
       "1             1   yorikiri         4140          J13w      Chikubayama   \n",
       "2             1  oshidashi         4323          J13e         Shiraiwa   \n",
       "3             0  oshidashi         1337          J12w     Tochitsukasa   \n",
       "4             0   yorikiri         4319          J11w       Harunafuji   \n",
       "\n",
       "  rikishi2_result  rikishi2_win  \n",
       "0       1-0 (6-1)             1  \n",
       "1       0-1 (7-8)             0  \n",
       "2      0-1 (3-12)             0  \n",
       "3       1-0 (9-6)             1  \n",
       "4      1-0 (5-10)             1  "
      ]
     },
     "execution_count": 5,
     "metadata": {},
     "output_type": "execute_result"
    }
   ],
   "source": [
    "results.head()"
   ]
  },
  {
   "cell_type": "markdown",
   "id": "9edb2f43",
   "metadata": {},
   "source": [
    "結果データベースには、1983年から2021年までの各対戦の結果が含まれます。力士の現在の順位や、勝ち技などの情報もあります。"
   ]
  },
  {
   "cell_type": "code",
   "execution_count": 6,
   "id": "49f87de7",
   "metadata": {
    "scrolled": true
   },
   "outputs": [
    {
     "data": {
      "text/html": [
       "<div>\n",
       "<style scoped>\n",
       "    .dataframe tbody tr th:only-of-type {\n",
       "        vertical-align: middle;\n",
       "    }\n",
       "\n",
       "    .dataframe tbody tr th {\n",
       "        vertical-align: top;\n",
       "    }\n",
       "\n",
       "    .dataframe thead th {\n",
       "        text-align: right;\n",
       "    }\n",
       "</style>\n",
       "<table border=\"1\" class=\"dataframe\">\n",
       "  <thead>\n",
       "    <tr style=\"text-align: right;\">\n",
       "      <th></th>\n",
       "      <th>rank</th>\n",
       "      <th>rikishi</th>\n",
       "      <th>heya</th>\n",
       "      <th>shusshin</th>\n",
       "      <th>birth_date</th>\n",
       "      <th>prev</th>\n",
       "    </tr>\n",
       "  </thead>\n",
       "  <tbody>\n",
       "    <tr>\n",
       "      <th>count</th>\n",
       "      <td>169105</td>\n",
       "      <td>169105</td>\n",
       "      <td>169105</td>\n",
       "      <td>169105</td>\n",
       "      <td>168442</td>\n",
       "      <td>169026</td>\n",
       "    </tr>\n",
       "    <tr>\n",
       "      <th>unique</th>\n",
       "      <td>995</td>\n",
       "      <td>5890</td>\n",
       "      <td>73</td>\n",
       "      <td>74</td>\n",
       "      <td>4199</td>\n",
       "      <td>996</td>\n",
       "    </tr>\n",
       "    <tr>\n",
       "      <th>top</th>\n",
       "      <td>Sd16e</td>\n",
       "      <td>Hokutoryu</td>\n",
       "      <td>Sadogatake</td>\n",
       "      <td>Tokyo</td>\n",
       "      <td>1970-11-22</td>\n",
       "      <td>Mz</td>\n",
       "    </tr>\n",
       "    <tr>\n",
       "      <th>freq</th>\n",
       "      <td>230</td>\n",
       "      <td>218</td>\n",
       "      <td>8098</td>\n",
       "      <td>12711</td>\n",
       "      <td>282</td>\n",
       "      <td>4816</td>\n",
       "    </tr>\n",
       "  </tbody>\n",
       "</table>\n",
       "</div>"
      ],
      "text/plain": [
       "          rank    rikishi        heya shusshin  birth_date    prev\n",
       "count   169105     169105      169105   169105      168442  169026\n",
       "unique     995       5890          73       74        4199     996\n",
       "top      Sd16e  Hokutoryu  Sadogatake    Tokyo  1970-11-22      Mz\n",
       "freq       230        218        8098    12711         282    4816"
      ]
     },
     "execution_count": 6,
     "metadata": {},
     "output_type": "execute_result"
    }
   ],
   "source": [
    "banzuke.describe(include=['O'])"
   ]
  },
  {
   "cell_type": "markdown",
   "id": "82c60ffa",
   "metadata": {},
   "source": [
    "この関数によると、番付データベースには、74都市、73部屋、5890人のユニークな力士が含まれます。"
   ]
  },
  {
   "cell_type": "markdown",
   "id": "b040f760",
   "metadata": {},
   "source": [
    "### 1.2.行方不明のデータ"
   ]
  },
  {
   "cell_type": "code",
   "execution_count": 7,
   "id": "719d9f53",
   "metadata": {},
   "outputs": [
    {
     "data": {
      "text/plain": [
       "basho            0\n",
       "id               0\n",
       "rank             0\n",
       "rikishi          0\n",
       "heya             0\n",
       "shusshin         0\n",
       "birth_date     663\n",
       "height        5174\n",
       "weight        5174\n",
       "prev            79\n",
       "prev_w          79\n",
       "prev_l          79\n",
       "dtype: int64"
      ]
     },
     "execution_count": 7,
     "metadata": {},
     "output_type": "execute_result"
    }
   ],
   "source": [
    "banzuke.isnull().sum(axis = 0)"
   ]
  },
  {
   "cell_type": "markdown",
   "id": "92117b9b",
   "metadata": {},
   "source": [
    "主に身長と体重に関するデータが欠落しています。データベース(169,105行)に対して欠落データはわずかなので、これらの欠落情報を持つ行を削除します:"
   ]
  },
  {
   "cell_type": "code",
   "execution_count": 8,
   "id": "cf2e78dc",
   "metadata": {},
   "outputs": [],
   "source": [
    "banzuke = banzuke.dropna()"
   ]
  },
  {
   "cell_type": "markdown",
   "id": "562e12fc",
   "metadata": {},
   "source": [
    "### 1.3.最も勝利数の多い3人の選手は誰か"
   ]
  },
  {
   "cell_type": "markdown",
   "id": "68c01f18",
   "metadata": {},
   "source": [
    "まず、欠落した情報を取り除いた後に、何人のユニークな力士がいるか見ます:"
   ]
  },
  {
   "cell_type": "code",
   "execution_count": 9,
   "id": "dfd9c9a4",
   "metadata": {},
   "outputs": [
    {
     "name": "stdout",
     "output_type": "stream",
     "text": [
      "ユニークな力士の数は 4949 人です。\n"
     ]
    }
   ],
   "source": [
    "unique_id = banzuke.drop_duplicates(subset=['id'])\n",
    "print(\"ユニークな力士の数は\",unique_id['id'].count(),\"人です。\")"
   ]
  },
  {
   "cell_type": "markdown",
   "id": "97852aa8",
   "metadata": {},
   "source": [
    "結果のデータフレームから、力士を勝利数の多い順に並べることができます。"
   ]
  },
  {
   "cell_type": "code",
   "execution_count": 10,
   "id": "859debbb",
   "metadata": {
    "scrolled": true
   },
   "outputs": [
    {
     "data": {
      "text/html": [
       "<div>\n",
       "<style scoped>\n",
       "    .dataframe tbody tr th:only-of-type {\n",
       "        vertical-align: middle;\n",
       "    }\n",
       "\n",
       "    .dataframe tbody tr th {\n",
       "        vertical-align: top;\n",
       "    }\n",
       "\n",
       "    .dataframe thead th {\n",
       "        text-align: right;\n",
       "    }\n",
       "</style>\n",
       "<table border=\"1\" class=\"dataframe\">\n",
       "  <thead>\n",
       "    <tr style=\"text-align: right;\">\n",
       "      <th></th>\n",
       "      <th>rikishi1_shikona</th>\n",
       "      <th>rikishi1_win</th>\n",
       "    </tr>\n",
       "  </thead>\n",
       "  <tbody>\n",
       "    <tr>\n",
       "      <th>361</th>\n",
       "      <td>Kyokutenho</td>\n",
       "      <td>1715</td>\n",
       "    </tr>\n",
       "    <tr>\n",
       "      <th>14</th>\n",
       "      <td>Aminishiki</td>\n",
       "      <td>1700</td>\n",
       "    </tr>\n",
       "    <tr>\n",
       "      <th>236</th>\n",
       "      <td>Kaio</td>\n",
       "      <td>1662</td>\n",
       "    </tr>\n",
       "    <tr>\n",
       "      <th>604</th>\n",
       "      <td>Terao</td>\n",
       "      <td>1580</td>\n",
       "    </tr>\n",
       "    <tr>\n",
       "      <th>624</th>\n",
       "      <td>Tochinowaka</td>\n",
       "      <td>1518</td>\n",
       "    </tr>\n",
       "    <tr>\n",
       "      <th>682</th>\n",
       "      <td>Wakanosato</td>\n",
       "      <td>1467</td>\n",
       "    </tr>\n",
       "    <tr>\n",
       "      <th>649</th>\n",
       "      <td>Tosanoumi</td>\n",
       "      <td>1444</td>\n",
       "    </tr>\n",
       "    <tr>\n",
       "      <th>332</th>\n",
       "      <td>Kotonowaka</td>\n",
       "      <td>1428</td>\n",
       "    </tr>\n",
       "    <tr>\n",
       "      <th>577</th>\n",
       "      <td>Takekaze</td>\n",
       "      <td>1419</td>\n",
       "    </tr>\n",
       "    <tr>\n",
       "      <th>336</th>\n",
       "      <td>Kotoshogiku</td>\n",
       "      <td>1399</td>\n",
       "    </tr>\n",
       "  </tbody>\n",
       "</table>\n",
       "</div>"
      ],
      "text/plain": [
       "    rikishi1_shikona  rikishi1_win\n",
       "361       Kyokutenho          1715\n",
       "14        Aminishiki          1700\n",
       "236             Kaio          1662\n",
       "604            Terao          1580\n",
       "624      Tochinowaka          1518\n",
       "682       Wakanosato          1467\n",
       "649        Tosanoumi          1444\n",
       "332       Kotonowaka          1428\n",
       "577         Takekaze          1419\n",
       "336      Kotoshogiku          1399"
      ]
     },
     "execution_count": 10,
     "metadata": {},
     "output_type": "execute_result"
    }
   ],
   "source": [
    "results[['rikishi1_shikona', 'rikishi1_win']].groupby(['rikishi1_shikona'],\n",
    "                                      as_index=False).count().sort_values(\n",
    "                                          by='rikishi1_win',ascending=False).head(n=10)"
   ]
  },
  {
   "cell_type": "markdown",
   "id": "f130303e",
   "metadata": {},
   "source": [
    "4949人の力士の中で、最も多くの勝ち星をあげているのは、旭天鵬で(Kyokutenho)、1715回の勝ち星をあげています。"
   ]
  },
  {
   "cell_type": "markdown",
   "id": "82437364",
   "metadata": {},
   "source": [
    "### 1.4.大相撲の力士の身長と体重"
   ]
  },
  {
   "cell_type": "code",
   "execution_count": 11,
   "id": "c9499d61",
   "metadata": {},
   "outputs": [
    {
     "name": "stdout",
     "output_type": "stream",
     "text": [
      "相撲の平均身長は 179.6 センチです。\n"
     ]
    }
   ],
   "source": [
    "print(\"相撲の平均身長は\",round(banzuke[\"height\"].mean(),1),\"センチです。\")"
   ]
  },
  {
   "cell_type": "code",
   "execution_count": 12,
   "id": "0b650054",
   "metadata": {},
   "outputs": [
    {
     "name": "stdout",
     "output_type": "stream",
     "text": [
      "相撲の平均体重は 125.2 キロです。\n"
     ]
    }
   ],
   "source": [
    "print(\"相撲の平均体重は\",round(banzuke[\"weight\"].mean(),1),\"キロです。\")"
   ]
  },
  {
   "cell_type": "markdown",
   "id": "78911f80",
   "metadata": {},
   "source": [
    "力士の平均身長は179.6センチ、平均体重は125.2キロです。"
   ]
  },
  {
   "cell_type": "markdown",
   "id": "5aa66d76",
   "metadata": {},
   "source": [
    "力士の名前を入れると、その力士の身長と体重の推移を描くことができます。<br>\n",
    "今回の例では、大相撲の大内選手(Osonai)に決めました。"
   ]
  },
  {
   "cell_type": "code",
   "execution_count": 13,
   "id": "f7c68fb0",
   "metadata": {
    "scrolled": true
   },
   "outputs": [
    {
     "data": {
      "image/png": "[encoded data removed]",
      "text/plain": [
       "<Figure size 432x288 with 1 Axes>"
      ]
     },
     "metadata": {
      "needs_background": "light"
     },
     "output_type": "display_data"
    }
   ],
   "source": [
    "sumo_HW = banzuke.loc[banzuke['rikishi'] == 'Osanai']\n",
    "sumo_HW.plot(x=\"basho\", y=[\"height\", \"weight\"], kind=\"line\")\n",
    "plt.grid(axis='y', linestyle='-')"
   ]
  },
  {
   "cell_type": "markdown",
   "id": "a5057ddc",
   "metadata": {},
   "source": [
    "2008年からの30年間で、身長はわずかに減少しました。一方、体重は85kgから120kgまで変化しました。"
   ]
  },
  {
   "cell_type": "markdown",
   "id": "6aafb072",
   "metadata": {},
   "source": [
    "どの部屋に平均して最も背が高く、最も重い力士がいるかを探しましょう:"
   ]
  },
  {
   "cell_type": "code",
   "execution_count": 14,
   "id": "2801547d",
   "metadata": {},
   "outputs": [
    {
     "data": {
      "text/html": [
       "<div>\n",
       "<style scoped>\n",
       "    .dataframe tbody tr th:only-of-type {\n",
       "        vertical-align: middle;\n",
       "    }\n",
       "\n",
       "    .dataframe tbody tr th {\n",
       "        vertical-align: top;\n",
       "    }\n",
       "\n",
       "    .dataframe thead th {\n",
       "        text-align: right;\n",
       "    }\n",
       "</style>\n",
       "<table border=\"1\" class=\"dataframe\">\n",
       "  <thead>\n",
       "    <tr style=\"text-align: right;\">\n",
       "      <th></th>\n",
       "      <th>heya</th>\n",
       "      <th>height</th>\n",
       "    </tr>\n",
       "  </thead>\n",
       "  <tbody>\n",
       "    <tr>\n",
       "      <th>63</th>\n",
       "      <td>Takekuma</td>\n",
       "      <td>185.870000</td>\n",
       "    </tr>\n",
       "    <tr>\n",
       "      <th>36</th>\n",
       "      <td>Nakadachi</td>\n",
       "      <td>182.223810</td>\n",
       "    </tr>\n",
       "    <tr>\n",
       "      <th>22</th>\n",
       "      <td>Kataonami</td>\n",
       "      <td>181.803420</td>\n",
       "    </tr>\n",
       "    <tr>\n",
       "      <th>18</th>\n",
       "      <td>Kabutoyama</td>\n",
       "      <td>181.474161</td>\n",
       "    </tr>\n",
       "    <tr>\n",
       "      <th>23</th>\n",
       "      <td>Kiriyama</td>\n",
       "      <td>181.179685</td>\n",
       "    </tr>\n",
       "    <tr>\n",
       "      <th>65</th>\n",
       "      <td>Tatsunami</td>\n",
       "      <td>181.125287</td>\n",
       "    </tr>\n",
       "    <tr>\n",
       "      <th>5</th>\n",
       "      <td>Azumazeki</td>\n",
       "      <td>181.069661</td>\n",
       "    </tr>\n",
       "    <tr>\n",
       "      <th>11</th>\n",
       "      <td>Hanakago</td>\n",
       "      <td>180.974734</td>\n",
       "    </tr>\n",
       "    <tr>\n",
       "      <th>58</th>\n",
       "      <td>Taiho</td>\n",
       "      <td>180.912208</td>\n",
       "    </tr>\n",
       "    <tr>\n",
       "      <th>48</th>\n",
       "      <td>Oshima</td>\n",
       "      <td>180.811368</td>\n",
       "    </tr>\n",
       "    <tr>\n",
       "      <th>53</th>\n",
       "      <td>Sakaigawa</td>\n",
       "      <td>180.774062</td>\n",
       "    </tr>\n",
       "    <tr>\n",
       "      <th>9</th>\n",
       "      <td>Futagoyama</td>\n",
       "      <td>180.674796</td>\n",
       "    </tr>\n",
       "    <tr>\n",
       "      <th>69</th>\n",
       "      <td>Tomozuna</td>\n",
       "      <td>180.661347</td>\n",
       "    </tr>\n",
       "    <tr>\n",
       "      <th>13</th>\n",
       "      <td>Hatachiyama</td>\n",
       "      <td>180.584844</td>\n",
       "    </tr>\n",
       "    <tr>\n",
       "      <th>12</th>\n",
       "      <td>Hanaregoma</td>\n",
       "      <td>180.522709</td>\n",
       "    </tr>\n",
       "  </tbody>\n",
       "</table>\n",
       "</div>"
      ],
      "text/plain": [
       "           heya      height\n",
       "63     Takekuma  185.870000\n",
       "36    Nakadachi  182.223810\n",
       "22    Kataonami  181.803420\n",
       "18   Kabutoyama  181.474161\n",
       "23     Kiriyama  181.179685\n",
       "65    Tatsunami  181.125287\n",
       "5     Azumazeki  181.069661\n",
       "11     Hanakago  180.974734\n",
       "58        Taiho  180.912208\n",
       "48       Oshima  180.811368\n",
       "53    Sakaigawa  180.774062\n",
       "9    Futagoyama  180.674796\n",
       "69     Tomozuna  180.661347\n",
       "13  Hatachiyama  180.584844\n",
       "12   Hanaregoma  180.522709"
      ]
     },
     "execution_count": 14,
     "metadata": {},
     "output_type": "execute_result"
    }
   ],
   "source": [
    "banzuke[['height', 'heya']].groupby(['heya'],\n",
    "                                      as_index=False).mean().sort_values(\n",
    "                                          by='height',ascending=False).head(n=15)"
   ]
  },
  {
   "cell_type": "markdown",
   "id": "656448da",
   "metadata": {},
   "source": [
    "身長の違いはわずかで、力士の身長は平均180cmから185cm、武隈部屋の平均は185cmです。"
   ]
  },
  {
   "cell_type": "code",
   "execution_count": 15,
   "id": "f5cd0faa",
   "metadata": {},
   "outputs": [
    {
     "data": {
      "text/html": [
       "<div>\n",
       "<style scoped>\n",
       "    .dataframe tbody tr th:only-of-type {\n",
       "        vertical-align: middle;\n",
       "    }\n",
       "\n",
       "    .dataframe tbody tr th {\n",
       "        vertical-align: top;\n",
       "    }\n",
       "\n",
       "    .dataframe thead th {\n",
       "        text-align: right;\n",
       "    }\n",
       "</style>\n",
       "<table border=\"1\" class=\"dataframe\">\n",
       "  <thead>\n",
       "    <tr style=\"text-align: right;\">\n",
       "      <th></th>\n",
       "      <th>heya</th>\n",
       "      <th>weight</th>\n",
       "    </tr>\n",
       "  </thead>\n",
       "  <tbody>\n",
       "    <tr>\n",
       "      <th>63</th>\n",
       "      <td>Takekuma</td>\n",
       "      <td>166.220000</td>\n",
       "    </tr>\n",
       "    <tr>\n",
       "      <th>68</th>\n",
       "      <td>Tokiwayama</td>\n",
       "      <td>144.174194</td>\n",
       "    </tr>\n",
       "    <tr>\n",
       "      <th>6</th>\n",
       "      <td>Chiganoura</td>\n",
       "      <td>140.242820</td>\n",
       "    </tr>\n",
       "    <tr>\n",
       "      <th>24</th>\n",
       "      <td>Kise</td>\n",
       "      <td>139.321056</td>\n",
       "    </tr>\n",
       "    <tr>\n",
       "      <th>14</th>\n",
       "      <td>Irumagawa</td>\n",
       "      <td>136.884796</td>\n",
       "    </tr>\n",
       "    <tr>\n",
       "      <th>60</th>\n",
       "      <td>Takanohana</td>\n",
       "      <td>136.619062</td>\n",
       "    </tr>\n",
       "    <tr>\n",
       "      <th>71</th>\n",
       "      <td>Yamahibiki</td>\n",
       "      <td>135.281737</td>\n",
       "    </tr>\n",
       "    <tr>\n",
       "      <th>5</th>\n",
       "      <td>Azumazeki</td>\n",
       "      <td>134.846962</td>\n",
       "    </tr>\n",
       "    <tr>\n",
       "      <th>25</th>\n",
       "      <td>Kitanoumi</td>\n",
       "      <td>132.280533</td>\n",
       "    </tr>\n",
       "    <tr>\n",
       "      <th>53</th>\n",
       "      <td>Sakaigawa</td>\n",
       "      <td>132.196249</td>\n",
       "    </tr>\n",
       "    <tr>\n",
       "      <th>64</th>\n",
       "      <td>Tamanoi</td>\n",
       "      <td>131.967148</td>\n",
       "    </tr>\n",
       "    <tr>\n",
       "      <th>44</th>\n",
       "      <td>Oitekaze</td>\n",
       "      <td>131.780873</td>\n",
       "    </tr>\n",
       "    <tr>\n",
       "      <th>46</th>\n",
       "      <td>Onoe</td>\n",
       "      <td>131.342980</td>\n",
       "    </tr>\n",
       "    <tr>\n",
       "      <th>61</th>\n",
       "      <td>Takasago</td>\n",
       "      <td>130.881027</td>\n",
       "    </tr>\n",
       "    <tr>\n",
       "      <th>23</th>\n",
       "      <td>Kiriyama</td>\n",
       "      <td>130.801001</td>\n",
       "    </tr>\n",
       "  </tbody>\n",
       "</table>\n",
       "</div>"
      ],
      "text/plain": [
       "          heya      weight\n",
       "63    Takekuma  166.220000\n",
       "68  Tokiwayama  144.174194\n",
       "6   Chiganoura  140.242820\n",
       "24        Kise  139.321056\n",
       "14   Irumagawa  136.884796\n",
       "60  Takanohana  136.619062\n",
       "71  Yamahibiki  135.281737\n",
       "5    Azumazeki  134.846962\n",
       "25   Kitanoumi  132.280533\n",
       "53   Sakaigawa  132.196249\n",
       "64     Tamanoi  131.967148\n",
       "44    Oitekaze  131.780873\n",
       "46        Onoe  131.342980\n",
       "61    Takasago  130.881027\n",
       "23    Kiriyama  130.801001"
      ]
     },
     "execution_count": 15,
     "metadata": {},
     "output_type": "execute_result"
    }
   ],
   "source": [
    "banzuke[['weight', 'heya']].groupby(['heya'],\n",
    "                                      as_index=False).mean().sort_values(\n",
    "                                          by='weight',ascending=False).head(n=15)"
   ]
  },
  {
   "cell_type": "markdown",
   "id": "7a213f1a",
   "metadata": {},
   "source": [
    "どうして初代と二代の部屋でこれほどの差があるのでしょうか？<br>\n",
    "\n",
    "竹熊部屋について詳しく見てみましょう。<br>\n",
    "データセットには、竹熊部屋の相撲試合は何試合あるのでしょうか。"
   ]
  },
  {
   "cell_type": "code",
   "execution_count": 16,
   "id": "36b2d825",
   "metadata": {},
   "outputs": [
    {
     "data": {
      "text/plain": [
       "Tokiwayama      31\n",
       "Takekuma        50\n",
       "Oyama           94\n",
       "Nishiiwa       120\n",
       "Nakadachi      126\n",
       "              ... \n",
       "Kokonoe       5058\n",
       "Takasago      5276\n",
       "Dewanoumi     5684\n",
       "Kasugano      6196\n",
       "Sadogatake    7859\n",
       "Name: heya, Length: 72, dtype: int64"
      ]
     },
     "execution_count": 16,
     "metadata": {},
     "output_type": "execute_result"
    }
   ],
   "source": [
    "banzuke['heya'].value_counts(ascending=True)"
   ]
  },
  {
   "cell_type": "markdown",
   "id": "131c0e89",
   "metadata": {},
   "source": [
    "竹熊部屋の力士が出場したのは50試合だけで、力士は羽黒国1人だけのようです。"
   ]
  },
  {
   "cell_type": "code",
   "execution_count": 17,
   "id": "74c67ac2",
   "metadata": {},
   "outputs": [
    {
     "data": {
      "text/plain": [
       "array(['Haguronada', 'Haguroshima', 'Hagurokuni'], dtype=object)"
      ]
     },
     "execution_count": 17,
     "metadata": {},
     "output_type": "execute_result"
    }
   ],
   "source": [
    "banzuke.loc[banzuke['heya'] == 'Takekuma', 'rikishi'].unique()"
   ]
  },
  {
   "cell_type": "markdown",
   "id": "d95d0807",
   "metadata": {},
   "source": [
    "2004年4月に書かれたこの[記事によると、](http://www.info-sumo.net/forum/content/380-La-Takekuma-beya-c-est-fini%21?s=746eab80535851b5db86619ecc5d5180) 確かにこの部屋には力士が一人しかいませんでした。<br>\n",
    "武隈親方（...）は同名の部屋を閉鎖することを決めました。唯一の弟子である羽黒国のキャリアが終わった後、弟子なしで部屋を存続させることが困難になりました。"
   ]
  },
  {
   "cell_type": "markdown",
   "id": "f9061221",
   "metadata": {},
   "source": [
    "### 1.5.最も多く力士を育てたのはどこの部屋か"
   ]
  },
  {
   "cell_type": "code",
   "execution_count": 18,
   "id": "67decc60",
   "metadata": {},
   "outputs": [
    {
     "data": {
      "image/png": "[encoded data removed]",
      "text/plain": [
       "<Figure size 1440x720 with 1 Axes>"
      ]
     },
     "metadata": {
      "needs_background": "light"
     },
     "output_type": "display_data"
    }
   ],
   "source": [
    "unique_id['heya'].value_counts().plot(kind=\"bar\", \n",
    "                                     legend=False,\n",
    "                                     color='red',\n",
    "                                     width=0.8, \n",
    "                                     figsize=(20,10))\n",
    "plt.show()"
   ]
  },
  {
   "cell_type": "markdown",
   "id": "d7a045a9",
   "metadata": {},
   "source": [
    "最も多くの力士を育てている部屋は佐渡ヶ嶽、九重、春日野です。"
   ]
  },
  {
   "cell_type": "markdown",
   "id": "7f3074a7",
   "metadata": {},
   "source": [
    "### 1.6.大相撲の力士はどこの出身ですか"
   ]
  },
  {
   "cell_type": "code",
   "execution_count": 19,
   "id": "d9aa9b84",
   "metadata": {},
   "outputs": [
    {
     "data": {
      "image/png": "[encoded data removed]",
      "text/plain": [
       "<Figure size 1440x720 with 1 Axes>"
      ]
     },
     "metadata": {
      "needs_background": "light"
     },
     "output_type": "display_data"
    }
   ],
   "source": [
    "unique_id['shusshin'].value_counts().plot(kind=\"bar\", \n",
    "                                     legend=False,\n",
    "                                     color='red',\n",
    "                                     width=0.8, \n",
    "                                     figsize=(20,10))\n",
    "plt.show()"
   ]
  },
  {
   "cell_type": "markdown",
   "id": "9bcf0fd0",
   "metadata": {},
   "source": [
    "相撲は主に東京、大阪、愛知から来ています。各部屋には外国人力士を一人育成する権利がありますので、外国人力士もいます。"
   ]
  },
  {
   "cell_type": "markdown",
   "id": "5490b4ea",
   "metadata": {},
   "source": [
    "## 2.正確な勝算\n",
    "ブックメーカーの勝算が正確かどうかを調べるために、勝算と結果のデータフレームに新しい変数を作成します。<br>"
   ]
  },
  {
   "cell_type": "markdown",
   "id": "5bc5119c",
   "metadata": {},
   "source": [
    "### 2.1.勝算と結果の変数のための新しい変数。\n",
    "勝算のデータフレームの場合。<br>\n",
    "\n",
    "第一力士のが第二力士の勝算よりも大きい場合: yyyy.mm.rikishi1>rikishi2<br>\n",
    "それ以外の場合は yyy.mm.rikishi2>rikishi1<br>\n",
    "(備考、力士は月に1回(1ヶ月に1回の場所)でしか会えませんが、1年に何度も会うことができます。)"
   ]
  },
  {
   "cell_type": "code",
   "execution_count": 20,
   "id": "9a601894",
   "metadata": {},
   "outputs": [],
   "source": [
    "odds['merged_odds'] = np.where(odds['odds1']>odds['odds2'],\n",
    "                               odds['ts'].str[:7] + \".\" + odds['rikishi1'] + \">\" + odds['rikishi2'], \n",
    "                               odds['ts'].str[:7] + \".\" + odds['rikishi2'] + \">\" + odds['rikishi1'])"
   ]
  },
  {
   "cell_type": "markdown",
   "id": "76b025ca",
   "metadata": {},
   "source": [
    "イコールがある場合は:"
   ]
  },
  {
   "cell_type": "code",
   "execution_count": 21,
   "id": "7780ce5b",
   "metadata": {},
   "outputs": [],
   "source": [
    "odds['merged_odds'] = np.where(odds['odds1'] == odds['odds2'],\n",
    "                               odds['ts'].str[:7] + \".\" + odds['rikishi1'] + \"=\" + odds['rikishi2'],\n",
    "                               odds['merged_odds'])\n",
    "\n",
    "odds['merged_odds'] = odds['merged_odds'].str.replace('-','.')"
   ]
  },
  {
   "cell_type": "code",
   "execution_count": 22,
   "id": "d97cce93",
   "metadata": {
    "scrolled": true
   },
   "outputs": [
    {
     "data": {
      "text/plain": [
       "0                  2017.05.Ura>Arawashi\n",
       "1             2017.05.Daishomaru=Onosho\n",
       "2               2017.05.Okinoumi>Goeido\n",
       "3            2017.05.Chiyonokuni>Hakuho\n",
       "4        2017.05.Kotoshogiku>Harumafuji\n",
       "                      ...              \n",
       "20019     2021.01.Shimanoumi>Takarafuji\n",
       "20020        2021.01.Takanosho>Takayasu\n",
       "20021         2021.01.Meisei>Terunofuji\n",
       "20022     2021.01.Daishomaru>Tokushoryu\n",
       "20023       2021.01.Yutakayama>Myogiryu\n",
       "Name: merged_odds, Length: 20024, dtype: object"
      ]
     },
     "execution_count": 22,
     "metadata": {},
     "output_type": "execute_result"
    }
   ],
   "source": [
    "odds['merged_odds']"
   ]
  },
  {
   "cell_type": "markdown",
   "id": "b1bad35d",
   "metadata": {},
   "source": [
    "\"2017.05.Ura>Arawashi \"というのは、2017年5月にUra VS Arawashiの試合において、Uraの勝算がArawashiの勝算よりも高かったです。"
   ]
  },
  {
   "cell_type": "code",
   "execution_count": 23,
   "id": "46749ff0",
   "metadata": {
    "scrolled": true
   },
   "outputs": [
    {
     "data": {
      "text/plain": [
       "count                     20024\n",
       "unique                     5933\n",
       "top       2019.11.Enho>Shohozan\n",
       "freq                         52\n",
       "Name: merged_odds, dtype: object"
      ]
     },
     "execution_count": 23,
     "metadata": {},
     "output_type": "execute_result"
    }
   ],
   "source": [
    "odds['merged_odds'].describe()"
   ]
  },
  {
   "cell_type": "markdown",
   "id": "6456b546",
   "metadata": {},
   "source": [
    "勝算は時間とともに変化することがあるので、5,933のユニークな試合をカバーする20,024の勝算があります。\n",
    "\n",
    "重複を取り除きましょう。"
   ]
  },
  {
   "cell_type": "code",
   "execution_count": 24,
   "id": "1e964273",
   "metadata": {},
   "outputs": [],
   "source": [
    "odds['merged_odds'] = odds['merged_odds'].drop_duplicates()"
   ]
  },
  {
   "cell_type": "code",
   "execution_count": 25,
   "id": "3ddba04b",
   "metadata": {},
   "outputs": [
    {
     "data": {
      "text/plain": [
       "count                     5933\n",
       "unique                    5933\n",
       "top       2017.05.Ura>Arawashi\n",
       "freq                         1\n",
       "Name: merged_odds, dtype: object"
      ]
     },
     "execution_count": 25,
     "metadata": {},
     "output_type": "execute_result"
    }
   ],
   "source": [
    "odds['merged_odds'].describe()"
   ]
  },
  {
   "cell_type": "markdown",
   "id": "309baa1a",
   "metadata": {},
   "source": [
    "結果のデータフレームです:<br>\n",
    "\n",
    "名前と日付を連結するためには、Basho列をfloat64型からstringに、Resultsをobjectからfloat64に変換する必要があります。"
   ]
  },
  {
   "cell_type": "code",
   "execution_count": null,
   "id": "9ed7cf98",
   "metadata": {
    "scrolled": true
   },
   "outputs": [],
   "source": [
    "results['basho'] = results['basho'].apply(str)\n",
    "\n",
    "results['rikishi1_win'] = results['rikishi1_win'].apply(float)\n",
    "results['rikishi2_win'] = results['rikishi2_win'].apply(float)\n",
    "\n",
    "results['merged_results'] = np.where(results['rikishi1_win']>results['rikishi2_win'],\n",
    "                               results['basho'] + \".\" + results['rikishi1_shikona'] + \">\" + results['rikishi2_shikona'], \n",
    "                               results['basho'] + \".\" + results['rikishi2_shikona'] + \">\" + results['rikishi1_shikona'])\n",
    "\n",
    "results['merged_results']"
   ]
  },
  {
   "cell_type": "markdown",
   "id": "145f2ed1",
   "metadata": {},
   "source": [
    "「2021.05.Terunofuji>Takakeisho」というのは、2021年5月にTerunofuji vs Takakeishoの試合で、TerunofujiがTakakeishoに勝ちました。"
   ]
  },
  {
   "cell_type": "markdown",
   "id": "59b8bb7d",
   "metadata": {},
   "source": [
    "### 2.2.勝算と結果のデータフレームのための新しい変数\n",
    "これらの列を連結するためには、まず、以下のことが必要です。\n",
    "<ul>\n",
    "<li>serieをdataframeに変換する。</li>\n",
    "<li>重複を削除する。</li>\n",
    "<li> インデックスを並べ替える。</li>\n",
    "</ul>"
   ]
  },
  {
   "cell_type": "code",
   "execution_count": null,
   "id": "b204313a",
   "metadata": {},
   "outputs": [],
   "source": [
    "data_results = results['merged_results']\n",
    "data_results = data_results.to_frame(name='merged_results')\n",
    "data_results = data_results.drop_duplicates()\n",
    "data_results = data_results.reset_index(drop=True)\n",
    "\n",
    "data = [odds['merged_odds'], data_results['merged_results']]\n",
    "compare = pd.concat(data, axis=1, keys=[\"odds\", \"results\"])\n",
    "\n",
    "compare.head()"
   ]
  },
  {
   "cell_type": "code",
   "execution_count": null,
   "id": "16027c6c",
   "metadata": {
    "scrolled": false
   },
   "outputs": [],
   "source": [
    "compare.describe()"
   ]
  },
  {
   "cell_type": "markdown",
   "id": "b3bfe374",
   "metadata": {},
   "source": [
    "今データベースには5933のユニークなオッズと109,923の試合結果があります。"
   ]
  },
  {
   "cell_type": "markdown",
   "id": "746822e7",
   "metadata": {},
   "source": [
    "### 2.3.結果\n",
    "勝算の値が結果の列にあれば、予測は正しかった、そうでなければ間違いです。"
   ]
  },
  {
   "cell_type": "code",
   "execution_count": null,
   "id": "232fc2f6",
   "metadata": {},
   "outputs": [],
   "source": [
    "simi = compare.odds.isin(compare.results)\n",
    "print(\"勝算のデータセットと結果のデータセットの間の類似性の数は\",sum(simi),\"です。\")"
   ]
  },
  {
   "cell_type": "code",
   "execution_count": null,
   "id": "2738bc2f",
   "metadata": {},
   "outputs": [],
   "source": [
    "first = pd.Series({'True': sum(simi), 'False': len(compare['odds'].unique())-sum(simi)})\n",
    "plt.pie(first, labels = {'True','False'}, autopct='%1.1f%%')\n",
    "plt.title('Odds vs Results')\n",
    "plt.axis('equal')\n",
    "plt.show()"
   ]
  },
  {
   "cell_type": "markdown",
   "id": "8cf770a9",
   "metadata": {},
   "source": [
    "予測の39%が正しく、61%が間違っていました(5933個のオッズのうち、2316個が正しい)。"
   ]
  },
  {
   "cell_type": "markdown",
   "id": "4c07ffa3",
   "metadata": {},
   "source": [
    "## 3.試合結果の予測\n",
    "### 3.1.機能エンジニアリングとデータの前処理\n",
    "試合の結果を予測するためには、予測モデルに無関係な特徴を削除する必要があります。<br>\n",
    "そこで、力士のID、勝敗、各力士の特徴量を含むデータセットを作成します。"
   ]
  },
  {
   "cell_type": "code",
   "execution_count": null,
   "id": "264678fa",
   "metadata": {},
   "outputs": [],
   "source": [
    "merged_fi = pd.read_csv('results.csv')\n",
    "\n",
    "merged_fi = merged_fi.drop(['day','rikishi1_rank','rikishi2_rank',\n",
    "                            'rikishi1_shikona','rikishi2_shikona','rikishi1_result','kimarite',\n",
    "                            'rikishi2_result'],axis=1)\n",
    "\n",
    "#インデックスの再作成、Fighter1のリネーム、マージ(Fighter2にも同様の作業を行う必要があります）\n",
    "merged_fi = merged_fi.rename(columns = {'rikishi1_id':'id'})\n",
    "merged_fi = merged_fi.sort_values('id')\n",
    "merged_fi = pd.merge(merged_fi, unique_id, on=\"id\")\n",
    "\n",
    "merged_fi = merged_fi.rename(columns = {'id':'rikishi1_id',\n",
    "                                        'height':'height1',\n",
    "                                        'weight':'weight1'})\n",
    "\n",
    "merged_fi = merged_fi.rename(columns = {'rikishi2_id':'id'})\n",
    "merged_fi = merged_fi.sort_values('id')\n",
    "merged_fi = pd.merge(merged_fi, unique_id, on=\"id\")\n",
    "\n",
    "merged_fi = merged_fi.rename(columns = {'height':'height2',\n",
    "                                        'weight':'weight2',\n",
    "                                        'id':'rikishi2_id',\n",
    "                                        'basho_x':'basho'})\n",
    "\n",
    "#必要な変数を選択\n",
    "merged_ml = merged_fi[['rikishi1_id',\n",
    "                       'rikishi1_win',\n",
    "                       'rikishi2_id',\n",
    "                       'height1',\n",
    "                       'weight1',\n",
    "                       'height2',\n",
    "                       'weight2']]\n",
    "\n",
    "merged_ml.head()"
   ]
  },
  {
   "cell_type": "code",
   "execution_count": null,
   "id": "639b8b29",
   "metadata": {},
   "outputs": [],
   "source": [
    "merged_ml.shape"
   ]
  },
  {
   "cell_type": "markdown",
   "id": "9ed5af6a",
   "metadata": {},
   "source": [
    "新しいデータベースには、220,592の試合結果、相撲の身長と体重が含まれています。"
   ]
  },
  {
   "cell_type": "markdown",
   "id": "f995b046",
   "metadata": {},
   "source": [
    "### 3.2.トレーニングとテストのためのデータ分割"
   ]
  },
  {
   "cell_type": "code",
   "execution_count": null,
   "id": "d57b63f2",
   "metadata": {},
   "outputs": [],
   "source": [
    "merged_ml = shuffle(merged_ml)"
   ]
  },
  {
   "cell_type": "code",
   "execution_count": null,
   "id": "d2a5ae2a",
   "metadata": {},
   "outputs": [],
   "source": [
    "X=merged_ml.drop(['rikishi1_win','rikishi1_id','rikishi2_id'],axis=1) #相撲IDと勝者の結果を削除します\n",
    "y=merged_ml['rikishi1_win']\n",
    "X_train,X_test,y_train,y_test=train_test_split(X,y,test_size=0.20,random_state=0)"
   ]
  },
  {
   "cell_type": "code",
   "execution_count": null,
   "id": "8b99b421",
   "metadata": {},
   "outputs": [],
   "source": [
    "#モデルの初期化とデータのフィッティング\n",
    "#LogisticRegression\n",
    "model=LogisticRegression()\n",
    "model.fit(X_train,y_train)\n",
    "train_score=model.score(X_train,y_train)\n",
    "test_score=model.score(X_test,y_test)\n",
    "print(\"学習精度: \",train_score)\n",
    "print(\"テスト精度: \",test_score)"
   ]
  },
  {
   "cell_type": "markdown",
   "id": "e54cf62b",
   "metadata": {},
   "source": [
    "logistic regressionモデルを使うことで、トレーニングの精度は51%近くになりましたが、このスコアを改善できるかどうか、他のモデルを試してみましょう。"
   ]
  },
  {
   "cell_type": "markdown",
   "id": "969e4028",
   "metadata": {},
   "source": [
    "### 3.3.モデリング"
   ]
  },
  {
   "cell_type": "code",
   "execution_count": null,
   "id": "f5325e99",
   "metadata": {},
   "outputs": [],
   "source": [
    "def evaluation(model):\n",
    "    model.fit(X_train, y_train)\n",
    "    ypred = model.predict(X_test)\n",
    "    print(confusion_matrix(y_test, ypred))\n",
    "    print(classification_report(y_test, ypred))\n",
    "    \n",
    "preprocessor = make_pipeline(PolynomialFeatures(2, include_bias=False), \n",
    "                             SelectKBest(f_classif, k=10))\n",
    "\n",
    "RandomForest = make_pipeline(preprocessor, RandomForestClassifier(random_state=0))\n",
    "AdaBoost = make_pipeline(preprocessor, AdaBoostClassifier(random_state=0))\n",
    "SVM = make_pipeline(preprocessor, StandardScaler(), SVC(random_state=0)) \n",
    "KNN = make_pipeline(preprocessor, StandardScaler(), KNeighborsClassifier())\n",
    "\n",
    "dict_of_models = {'RandomForest': RandomForest,\n",
    "                  'AdaBoost' : AdaBoost,\n",
    "                  'SVM': SVM,\n",
    "                  'KNN': KNN\n",
    "                 }"
   ]
  },
  {
   "cell_type": "markdown",
   "id": "9476dd82",
   "metadata": {},
   "source": [
    "モデルにはパイプラインを使用します。パイプラインは複数の推定量を1つにまとめるために使用されます。<br>\n",
    "\n",
    "プリプロセッサには2つの特徴があります:<br>\n",
    "<ul>\n",
    "<li>PolynomialFeaturesは、多項式特徴と相互作用特徴を生成します。より正確には，指定された次数以下の特徴のすべての多項式の組み合わせからなる新しい特徴行列を生成します．</li>\n",
    "\n",
    "<li>SelectKBest は，Yとの依存性テストのスコアが最も高いK個の変数Xを選択します．</li>\n",
    "</ul>\n",
    "<br>\n",
    "PolynomialFeaturesはデータを修正するので、モデリング・プロセスの前にデータを正規化するために、StandardScaler()を使用しなければなりません。<br>"
   ]
  },
  {
   "cell_type": "markdown",
   "id": "256b8ce0",
   "metadata": {},
   "source": [
    "そのため、4つのモデルをテストします :Random Forest, Ada Boost, SVN。<br>"
   ]
  },
  {
   "cell_type": "code",
   "execution_count": null,
   "id": "732b898f",
   "metadata": {},
   "outputs": [],
   "source": [
    "for name, model in dict_of_models.items():\n",
    "    print(name)\n",
    "    evaluation(model)"
   ]
  },
  {
   "cell_type": "markdown",
   "id": "c7494fe0",
   "metadata": {},
   "source": [
    "結論:<br>\n",
    "\n",
    "RandomForestが最も良い結果を出し、Recallが55%となりました。<br>\n",
    "これにより、スコアが51%から55%に向上しました。<br>\n",
    "実際は、賭けに失敗するとお金を失うことになるので、リコールは可能な限り100%に近づけたいと考えています。<br>\n",
    "\n",
    "したがって、モデルは、大相撲の試合結果を55%の精度で予測することができます。<br>"
   ]
  }
 ],
 "metadata": {
  "kernelspec": {
   "display_name": "Python 3 (ipykernel)",
   "language": "python",
   "name": "python3"
  },
  "language_info": {
   "codemirror_mode": {
    "name": "ipython",
    "version": 3
   },
   "file_extension": ".py",
   "mimetype": "text/x-python",
   "name": "python",
   "nbconvert_exporter": "python",
   "pygments_lexer": "ipython3",
   "version": "3.9.7"
  }
 },
 "nbformat": 4,
 "nbformat_minor": 5
}
